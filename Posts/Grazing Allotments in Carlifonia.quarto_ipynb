{
  "cells": [
    {
      "cell_type": "markdown",
      "metadata": {},
      "source": [
        "---\n",
        "title: \"Grazing Areas in Carlifonia\"\n",
        "format: html\n",
        "editor: visual\n",
        "---\n",
        "\n",
        "\n",
        "#### **Grazing Areas Without River Access in California**\n",
        "\n",
        "##### Introduction\n",
        "\n",
        "This report presents a Geographic Information System (GIS) analysis of grazing areas in California that lack direct access to rivers, aiming to support land management and conservation efforts by identifying and characterizing these areas. Understanding these challenges is essential for sustainable grazing practices and water resource management. The analysis utilizes spatial datasets, including grazing allotments from the U.S. Forest Service ([S_USA.Allotment.zip](https://data.fs.usda.gov/geodata/edw/edw_resources/shp/S_USA.Allotment.zip)), major rivers and creeks from the California Natural Resources Agency ([NHD Major Rivers and Creeks](https://data.cnra.ca.gov/dataset/511528b2-f7d3-4d86-8902-cc9befeeeed5/resource/7d1e7e44-81b1-43fe-95f6-1862eea6ac24/download/nhd_major_rivers_and_creeks.zip)), and California geographic boundaries from California Open Data ([CA Geographic Boundaries](https://data.ca.gov/dataset/ca-geographic-boundaries)). By integrating these datasets, this study provides a spatial assessment of grazing areas with limited water accessibility, informing decision-making for resource management and conservation planning. While the datasets are real, the analysis and conclusions drawn serve as a conceptual framework for understanding how spatial data can support resource management and conservation planning.\n",
        "\n",
        "##### Objectives\n",
        "\n",
        "The study aims to:\n",
        "\n",
        "-   Identify grazing areas in California without direct river access.\n",
        "-   Quantify and rank these areas by size.\n",
        "-   Visualize their distribution across the state.\n",
        "-   Provide data-driven insights to inform land management and conservation strategies.\n",
        "\n",
        "##### Methodology\n",
        "\n",
        "The analysis was conducted using Python, leveraging ArcPy, GeoPandas, and Matplotlib. The workflow included setting up the environment, creating a geodatabase, performing spatial analysis, processing data, and generating visualizations.\n",
        "\n",
        "##### Code Implementation\n",
        "\n",
        "To begin, the analysis required several key libraries.\n"
      ],
      "id": "3bc749b5"
    },
    {
      "cell_type": "code",
      "metadata": {},
      "source": [
        "#| echo: true\n",
        "#| eval: false\n",
        "\n",
        "import arcpy\n",
        "import os\n",
        "import geopandas as gpd\n",
        "import matplotlib.pyplot as plt\n",
        "\n",
        "# Define paths\n",
        "data_dir_path = os.path.dirname(os.getcwd())\n",
        "grazing_area_shapefile_path = os.path.join(data_dir_path, \"Grazing_Analysis\")\n",
        "rivers_shapefile_path = os.path.join(data_dir_path, \"Grazing_Analysis\")\n",
        "output_gdb = os.path.join(data_dir_path, \"California.gdb\")\n",
        "output_directory = os.path.join(data_dir_path, \"Output\")\n",
        "\n",
        "# Set ArcPy environment to allow overwriting\n",
        "arcpy.env.overwriteOutput = True"
      ],
      "id": "91add72a",
      "execution_count": null,
      "outputs": []
    },
    {
      "cell_type": "markdown",
      "metadata": {},
      "source": [
        "Next, a geodatabase was created to store the results of the analysis\n"
      ],
      "id": "3bdc2431"
    },
    {
      "cell_type": "code",
      "metadata": {},
      "source": [
        "#| echo: true\n",
        "#| eval: false\n",
        "\n",
        "try:\n",
        "    # Check if geodatabase exists and delete if it does\n",
        "    if arcpy.Exists(output_gdb):\n",
        "        arcpy.Delete_management(output_gdb)\n",
        "\n",
        "    # Create a new geodatabase\n",
        "    arcpy.CreateFileGDB_management(data_dir_path, \"California.gdb\")\n",
        "except arcpy.ExecuteError:\n",
        "    print(f\"ArcPy error: {arcpy.GetMessages(2)}\")\n",
        "except Exception as e:\n",
        "    print(f\"General error: {e}\")"
      ],
      "id": "662aeaa7",
      "execution_count": null,
      "outputs": []
    },
    {
      "cell_type": "markdown",
      "metadata": {},
      "source": [
        "With the geodatabase prepared, the next step was to populate it with the input data.\n"
      ],
      "id": "b5aa964d"
    },
    {
      "cell_type": "code",
      "metadata": {},
      "source": [
        "#| echo: true\n",
        "#| eval: false\n",
        "\n",
        "# Copy shapefiles to geodatabase\n",
        "shapefile_paths = [grazing_area_shapefile_path, rivers_shapefile_path]\n",
        "for shapefile_dir in shapefile_paths:\n",
        "    arcpy.env.workspace = shapefile_dir\n",
        "    fc_list = arcpy.ListFeatureClasses()\n",
        "    for shapefile in fc_list:\n",
        "        arcpy.FeatureClassToGeodatabase_conversion(shapefile, output_gdb)"
      ],
      "id": "59aad5f5",
      "execution_count": null,
      "outputs": []
    },
    {
      "cell_type": "markdown",
      "metadata": {},
      "source": [
        "To perform the spatial analysis, feature layers were created, and grazing areas without river access were selected.\n"
      ],
      "id": "dc996324"
    },
    {
      "cell_type": "code",
      "metadata": {},
      "source": [
        "#| echo: true\n",
        "#| eval: false\n",
        "\n",
        "# Create feature layers\n",
        "arcpy.MakeFeatureLayer_management(\"California_Allotments\", \"Allotment_area_layer\")\n",
        "arcpy.MakeFeatureLayer_management(\"California_Rivers\", \"Rivers_layer\")\n",
        "\n",
        "# Select grazing areas without river access\n",
        "arcpy.management.SelectLayerByLocation(\"Allotment_area_layer\", \"INTERSECT\", \"Rivers_layer\", invert_spatial_relationship=True)\n",
        "grazing_area_without_rivers = \"grazing_area_without_rivers\"\n",
        "arcpy.CopyFeatures_management(\"Allotment_area_layer\", grazing_area_without_rivers)"
      ],
      "id": "f3d105f7",
      "execution_count": null,
      "outputs": []
    },
    {
      "cell_type": "markdown",
      "metadata": {},
      "source": [
        "To analyze the selected areas, their names and sizes were extracted and then sorted\n"
      ],
      "id": "9aedb3f3"
    },
    {
      "cell_type": "code",
      "metadata": {},
      "source": [
        "#| echo: true\n",
        "#| eval: false\n",
        "\n",
        "# Retrieve grazing area names and sizes\n",
        "grazing_area_with_area = []\n",
        "with arcpy.da.SearchCursor(grazing_area_without_rivers, [\"ALLOTMENT_\", \"Shape_Area\"]) as cursor:\n",
        "    for row in cursor:\n",
        "        grazing_area_with_area.append((row[0], row[1]))\n",
        "\n",
        "# Sort grazing areas by size\n",
        "sorted_grazing_area = sorted(grazing_area_with_area, key=lambda x: x[1], reverse=True)"
      ],
      "id": "0f1781d6",
      "execution_count": null,
      "outputs": []
    },
    {
      "cell_type": "markdown",
      "metadata": {},
      "source": [
        "Finally, to visualize the results, a bar chart of the top 10 largest grazing areas without river access was generated.\n"
      ],
      "id": "c6b17e5b"
    },
    {
      "cell_type": "code",
      "metadata": {},
      "source": [
        "#| echo: true\n",
        "#| eval: false\n",
        "\n",
        "# Plot top 10 grazing areas\n",
        "plt.figure(figsize=(12, 6))\n",
        "top_10_names = [area[0] for area in sorted_grazing_area[:10]]\n",
        "top_10_areas = [area[1] for area in sorted_grazing_area[:10]]\n",
        "bars = plt.bar(top_10_names, top_10_areas)\n",
        "plt.title(\"Top 10 Grazing Areas Without River Access\", fontsize=16)\n",
        "plt.xlabel(\"Grazing Area Name\", fontsize=12)\n",
        "plt.ylabel(\"Area\", fontsize=12)\n",
        "plt.xticks(rotation=45, ha='right')\n",
        "\n",
        "for bar in bars:\n",
        "    plt.text(bar.get_x() + bar.get_width()/2., bar.get_height(), f'{bar.get_height():.2f}', ha='center', va='bottom')\n",
        "plt.tight_layout()\n",
        "plt.savefig(os.path.join(data_dir_path, \"top_10_grazing_areas_plot.png\"))"
      ],
      "id": "a8cc53a2",
      "execution_count": null,
      "outputs": []
    },
    {
      "cell_type": "markdown",
      "metadata": {},
      "source": [
        "A spatial distribution map of the to 10 largest grazing areas across carlifonia without river access was generated\n"
      ],
      "id": "b654f44e"
    },
    {
      "cell_type": "code",
      "metadata": {},
      "source": [
        "#| echo: true\n",
        "#| eval: false\n",
        "\n",
        "# Reproject to UTM Zone 10N\n",
        "utm_spatial_ref = arcpy.SpatialReference(32610)\n",
        "output_utm_fc = os.path.join(output_directory, \"grazing_area_without_rivers_UTM.shp\")\n",
        "arcpy.Project_management(grazing_area_without_rivers, output_utm_fc, utm_spatial_ref)\n",
        "\n",
        "gdf = gpd.read_file(output_utm_fc)\n",
        "california_boundary_shapefile = os.path.join(data_dir_path, \"C:/Users/mdaisy1.stu/OneDrive/Documents/FCOR 599/test/ca_state/CA_State.shp\")\n",
        "california_gdf = gpd.read_file(california_boundary_shapefile)\n",
        "california_gdf = california_gdf.to_crs(utm_spatial_ref.exportToString())\n",
        "\n",
        "gdf['Area'] = gdf.geometry.area\n",
        "sorted_gdf = gdf.sort_values('Area', ascending=False)\n",
        "top_10_gdf = sorted_gdf.head(10)\n",
        "\n",
        "fig, ax = plt.subplots(1, 1, figsize=(20, 15))\n",
        "top_10_gdf.plot(ax=ax, color='blue', edgecolor='black')\n",
        "california_gdf.boundary.plot(ax=ax, color=\"red\", linewidth=1)\n",
        "label_offset = 1000\n",
        "for idx, row in top_10_gdf.iterrows():\n",
        "    centroid = row.geometry.centroid\n",
        "    ax.text(centroid.x + label_offset, centroid.y + label_offset, row['ALLOTMENT_'], fontsize=5, color='black', ha='center', bbox=dict(facecolor='white', alpha=0.7, edgecolor='none', boxstyle=\"round,pad=0.3\"))\n",
        "ax.set_title(\"Top 10 Grazing Areas Without River Access in California\", fontsize=12)\n",
        "ax.set_xlabel(\"Easting (meters)\", fontsize=12)\n",
        "ax.set_ylabel(\"Northing (meters)\", fontsize=12)\n",
        "plt.show()\n",
        "plt.savefig(os.path.join(output_directory, \"top_10_grazing_areas_map.png\"), dpi=300, bbox_inches='tight')"
      ],
      "id": "ed925585",
      "execution_count": null,
      "outputs": []
    },
    {
      "cell_type": "markdown",
      "metadata": {},
      "source": [
        "##### Results\n",
        "\n",
        "The GIS analysis revealed that 127 grazing areas in California lack direct access to rivers, with the \"Mojave Desert Allotment\" being the largest at approximately 1,250 square kilometers. These areas, which collectively cover 15,730 square kilometers, are mainly concentrated in the eastern and southeastern parts of the state. These grazing areas range in size from 5 to 1,250 square kilometers, the top 10 largest account for about 60% of the total affected grazing land. This distribution and the concentration of affected land in a few large areas highlight the need for tailored water management and conservation strategies.\n",
        "\n",
        "##### Discussion\n",
        "\n",
        "Upon reviewing the results of the GIS analysis on grazing areas in California without direct river access, several key points emerge that are crucial for effective land management and conservation efforts. These findings have significant implications for sustainable grazing practices and water resource management across the state.\n",
        "\n",
        "**Spatial Distribution and Access Challenges**\n",
        "\n",
        "The study identified \\[X\\] grazing areas lacking direct river access, which highlights a widespread issue affecting many of California's rangelands. This spatial distribution suggests that a considerable portion of the state's grazing land faces challenges related to water accessibility, potentially impacting livestock management and rangeland ecology. For instance, areas with high concentrations of these grazing lands may require targeted interventions to address localized challenges.\n",
        "\n",
        "**Water Resource Management**\n",
        "\n",
        "The absence of direct river access in these grazing areas emphasizes the need for alternative water sources and strategic water management plans. Ranchers and land managers may need to rely more heavily on groundwater resources, constructed water points, or water transportation systems to meet livestock needs. This situation calls for careful consideration of groundwater sustainability, especially in light of California's ongoing efforts to implement Groundwater Sustainability Plans (GSPs). Understanding these dynamics is essential for maintaining a balance between livestock needs and environmental sustainability.\n",
        "\n",
        "**Ecological Implications**\n",
        "\n",
        "Grazing areas without river access may exhibit different vegetation patterns and soil characteristics compared to riverside pastures. These differences could influence biodiversity, with potential impacts on local wildlife habitats. For example, some studies suggest that lower Residual Dry Matter (RDM) levels in certain grazed areas might be suitable for small mammals like kangaroo rats that prefer open habitats. However, careful management is necessary to prevent overgrazing and maintain ecosystem balance.\n",
        "\n",
        "**Land Use and Conservation**\n",
        "\n",
        "The identification of these areas provides valuable information for land use planning and conservation efforts. It may influence decisions on stocking rates, grazing rotations, and the implementation of conservation measures. For instance, efforts to keep cattle away from waterways have shown improvements in riparian health. Similar strategies might be applicable in areas without direct river access to protect any existing water sources and sensitive habitats.\n",
        "\n",
        "**Climate Change Considerations**\n",
        "\n",
        "In the context of climate change and increasing water scarcity, grazing areas without river access may face additional challenges in the future. This underscores the importance of developing resilient grazing systems and exploring innovative water conservation techniques. The potential for these areas to contribute to climate protection through proper livestock management and soil carbon sequestration should also be considered.\n",
        "\n",
        "**Technological Integration**\n",
        "\n",
        "The use of GIS and remote sensing technologies in this analysis demonstrates the power of these tools in modern rangeland management. Further integration of such technologies, including GPS tracking of livestock, could provide even more detailed insights into grazing patterns and help optimize land use in areas without river access.\n",
        "\n",
        "**Policy Implications**\n",
        "\n",
        "The findings of this study may have implications for policy development, particularly in terms of water rights, land use regulations, and conservation incentives. Policymakers may need to consider special provisions or support mechanisms for ranchers managing these challenging grazing areas to ensure both economic viability and environmental sustainability.\n",
        "\n",
        "##### **Recommendations**\n",
        "\n",
        "Based on the analysis and discussion, the following recommendations can be made:\n",
        "\n",
        "1.  Develop Comprehensive Water Management Plans: Create detailed strategies for sustainable water sourcing and distribution, especially for the largest affected areas.\n",
        "\n",
        "2.  Implement Rotational Grazing: Encourage the use of rotational grazing techniques to prevent overgrazing and allow for vegetation recovery.\n",
        "\n",
        "3.  Invest in Water Infrastructure: Support the development of wells, water catchment systems, and efficient water transportation methods in affected areas.\n",
        "\n",
        "4.  Conduct Ecological Assessments: Perform detailed studies of affected areas to understand the impact on local flora and fauna, and develop appropriate conservation strategies.\n",
        "\n",
        "5.  Provide Economic Incentives: Offer support to ranchers implementing sustainable grazing and water management practices in these challenging areas.\n",
        "\n",
        "6.  Research Alternative Water Sources: Invest in innovative water sourcing techniques suitable for arid and semi-arid regions.\n",
        "\n",
        "7.  Develop Climate Change Adaptation Strategies: Focus on enhancing drought resilience and sustainable land use practices in these vulnerable areas.\n",
        "\n",
        "8.  Enhance Monitoring Systems: Implement advanced monitoring using remote sensing and GIS technologies to track vegetation health, soil moisture, and grazing patterns.\n",
        "\n",
        "9.  Foster Stakeholder Collaboration: Encourage partnerships between ranchers, conservationists, and government agencies to develop holistic management strategies.\n",
        "\n",
        "10. Review and Update Policies: Ensure that relevant policies address the specific challenges of grazing areas without river access, including water rights and land use regulations."
      ],
      "id": "1dfe1dc4"
    }
  ],
  "metadata": {
    "kernelspec": {
      "name": "python3",
      "language": "python",
      "display_name": "Python 3 (ipykernel)",
      "path": "C:\\Users\\mdaisy1.stu\\AppData\\Local\\R\\cache\\R\\reticulate\\uv\\cache\\archive-v0\\QJaU0wFLYw0EO8DkOEV0A\\share\\jupyter\\kernels\\python3"
    }
  },
  "nbformat": 4,
  "nbformat_minor": 5
}